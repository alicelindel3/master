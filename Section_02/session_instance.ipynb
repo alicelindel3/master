{
  "nbformat": 4,
  "nbformat_minor": 0,
  "metadata": {
    "colab": {
      "name": "session_instance.ipynb",
      "provenance": [],
      "collapsed_sections": [],
      "include_colab_link": true
    },
    "kernelspec": {
      "name": "python3",
      "display_name": "Python 3"
    }
  },
  "cells": [
    {
      "cell_type": "markdown",
      "metadata": {
        "id": "view-in-github",
        "colab_type": "text"
      },
      "source": [
        "<a href=\"https://colab.research.google.com/github/alicelindel3/master/blob/main/Section_02/session_instance.ipynb\" target=\"_parent\"><img src=\"https://colab.research.google.com/assets/colab-badge.svg\" alt=\"Open In Colab\"/></a>"
      ]
    },
    {
      "cell_type": "markdown",
      "metadata": {
        "id": "Dx7-urn4A9UE"
      },
      "source": [
        "# ●セッションとインスタンス\n",
        "12時間ルールに対応するために、インスタンス起動時からの経過時間を把握しましょう。"
      ]
    },
    {
      "cell_type": "markdown",
      "metadata": {
        "id": "HeKVJz6gB-n0"
      },
      "source": [
        "## ●経過時間の表示\n",
        "以下コマンドで、インスタンス起動時からの経過時間を表示することができます。"
      ]
    },
    {
      "cell_type": "code",
      "metadata": {
        "id": "tlEJ7RmTy7g4"
      },
      "source": [
        "!cat /proc/uptime | awk '{print $1/60/60 \"h\"}'"
      ],
      "execution_count": null,
      "outputs": []
    },
    {
      "cell_type": "markdown",
      "metadata": {
        "id": "c6rSvyuxHwDL"
      },
      "source": [
        "この時間が12時間を超えると、インスタンスが一旦リセットされます。"
      ]
    }
  ]
}
{
  "nbformat": 4,
  "nbformat_minor": 0,
  "metadata": {
    "colab": {
      "name": "cpu_gpu.ipynb",
      "provenance": [],
      "collapsed_sections": [],
      "include_colab_link": true
    },
    "kernelspec": {
      "name": "python3",
      "display_name": "Python 3"
    },
    "accelerator": "GPU"
  },
  "cells": [
    {
      "cell_type": "markdown",
      "metadata": {
        "id": "view-in-github",
        "colab_type": "text"
      },
      "source": [
        "<a href=\"https://colab.research.google.com/github/alicelindel3/master/blob/main/Section_02/cpu_gpu2.ipynb\" target=\"_parent\"><img src=\"https://colab.research.google.com/assets/colab-badge.svg\" alt=\"Open In Colab\"/></a>"
      ]
    },
    {
      "cell_type": "markdown",
      "metadata": {
        "id": "PL-WhmHvI9aI"
      },
      "source": [
        "# CPUとGPU\n",
        "CPUとGPUのパフォーマンスを比較します。"
      ]
    },
    {
      "cell_type": "markdown",
      "metadata": {
        "id": "VY2aX1CaZnK-"
      },
      "source": [
        "## ●パフォーマンス比較\n",
        "以下は後のセクションで使用するディープラーニングのコードの一部です。  \n",
        "ニューラルネットワークが5万枚の画像を学習します。  \n",
        "CPUとGPUで、学習に要する時間を比較しましょう。  \n",
        "デフォルトではCPUが使用されますが、編集→ノートブックの設定のハードウェアアクセラレーターでGPUを選択することでGPUが使用されるようになります。"
      ]
    },
    {
      "cell_type": "code",
      "metadata": {
        "id": "ciwFomv_50Hm",
        "colab": {
          "base_uri": "https://localhost:8080/"
        },
        "outputId": "50180918-d077-4f61-9ce7-642fa770299d"
      },
      "source": [
        "import numpy as np\n",
        "import matplotlib.pyplot as plt\n",
        "import tensorflow as tf\n",
        "from tensorflow.keras.datasets import cifar10\n",
        "from tensorflow.keras.models import Sequential\n",
        "from tensorflow.keras.layers import Dense, Dropout, Activation, Flatten\n",
        "from tensorflow.keras.layers import Conv2D, MaxPooling2D\n",
        "from tensorflow.keras.optimizers import Adam\n",
        "\n",
        "(x_train, t_train), (x_test, t_test) = cifar10.load_data()\n",
        "\n",
        "batch_size = 32\n",
        "epochs = 1\n",
        "n_class = 10\n",
        "\n",
        "t_train = tf.keras.utils.to_categorical(t_train, n_class)\n",
        "t_test = tf.keras.utils.to_categorical(t_test, n_class)\n",
        "\n",
        "model = Sequential()\n",
        "\n",
        "model.add(Conv2D(32, (3, 3), padding='same', input_shape=x_train.shape[1:]))\n",
        "model.add(Activation('relu'))\n",
        "model.add(Conv2D(32, (3, 3)))\n",
        "model.add(Activation('relu'))\n",
        "model.add(MaxPooling2D(pool_size=(2, 2)))\n",
        "\n",
        "model.add(Conv2D(64, (3, 3), padding='same'))\n",
        "model.add(Activation('relu'))\n",
        "model.add(Conv2D(64, (3, 3)))\n",
        "model.add(Activation('relu'))\n",
        "model.add(MaxPooling2D(pool_size=(2, 2)))\n",
        "\n",
        "model.add(Flatten())\n",
        "model.add(Dense(256))\n",
        "model.add(Activation('relu'))\n",
        "model.add(Dropout(0.5))\n",
        "model.add(Dense(n_class))\n",
        "model.add(Activation('softmax'))\n",
        "\n",
        "model.compile(optimizer=Adam(), loss='categorical_crossentropy', metrics=['accuracy'])\n",
        "\n",
        "x_train = x_train / 255\n",
        "x_test = x_test / 255\n",
        "\n",
        "model.fit(x_train, t_train, epochs=epochs, batch_size=batch_size, validation_data=(x_test, t_test))"
      ],
      "execution_count": 1,
      "outputs": [
        {
          "output_type": "stream",
          "name": "stdout",
          "text": [
            "Downloading data from https://www.cs.toronto.edu/~kriz/cifar-10-python.tar.gz\n",
            "170500096/170498071 [==============================] - 2s 0us/step\n",
            "170508288/170498071 [==============================] - 2s 0us/step\n",
            "1563/1563 [==============================] - 20s 6ms/step - loss: 1.4970 - accuracy: 0.4555 - val_loss: 1.1135 - val_accuracy: 0.6026\n"
          ]
        },
        {
          "output_type": "execute_result",
          "data": {
            "text/plain": [
              "<keras.callbacks.History at 0x7f8b80393690>"
            ]
          },
          "metadata": {},
          "execution_count": 1
        }
      ]
    },
    {
      "cell_type": "markdown",
      "metadata": {
        "id": "xMBacVeeib9F"
      },
      "source": [
        "GPUを選択することで、学習に要する時間が大幅に短縮されました。  \n",
        "コードの意味については、後のセクションで詳しく解説します。"
      ]
    }
  ]
}